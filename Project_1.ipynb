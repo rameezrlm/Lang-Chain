{
  "nbformat": 4,
  "nbformat_minor": 0,
  "metadata": {
    "colab": {
      "provenance": []
    },
    "kernelspec": {
      "name": "python3",
      "display_name": "Python 3"
    },
    "language_info": {
      "name": "python"
    }
  },
  "cells": [
    {
      "cell_type": "markdown",
      "source": [
        "\n",
        "===========================================================================\n",
        "\n",
        "Submitted By: Rameez Ali\n",
        "\n",
        "\n",
        "Registration No.: PIAIC246512\n",
        "\n",
        "LANGCHAIN PROJECT\n",
        "\n",
        "==========================================================================\n"
      ],
      "metadata": {
        "id": "filY2h2aLe_R"
      }
    },
    {
      "source": [
        "!pip install --upgrade google-generativeai --quiet\n",
        "!pip install --upgrade google-genai --quiet\n",
        "\n",
        "#Import Required Libraries\n",
        "\n",
        "from google.generativeai import configure\n",
        "from google import generativeai as genai\n",
        "from google.colab import userdata\n",
        "from langchain_google_genai import GoogleGenerativeAI, ChatGoogleGenerativeAI\n",
        "from langchain.prompts import PromptTemplate\n",
        "from langchain.chains import LLMChain\n",
        "import os\n",
        "# Get your API key\n",
        "api_key = userdata.get('API-Key')\n",
        "# **Instead of using `client = genai.Client(api_key=api_key)` , directly configure the API key**\n",
        "configure(api_key=api_key) # Changed this line\n",
        "# Rest of your code remains same\n",
        "os.environ['API-Key'] = api_key\n",
        "model = \"gemini-2.0-flash-exp\""
      ],
      "cell_type": "code",
      "metadata": {
        "id": "fCRE2iB5OJCX"
      },
      "execution_count": 6,
      "outputs": []
    },
    {
      "cell_type": "code",
      "source": [
        "prompt_template = \"Answer the following question based on your knowledge: {question}\"\n",
        "prompt = PromptTemplate(input_variables=[\"question\"], template=prompt_template)\n",
        "llm = GoogleGenerativeAI(client=client, model=model)\n",
        "llm_chain = LLMChain(prompt=prompt, llm=llm)"
      ],
      "metadata": {
        "id": "fS_Gyc5xLyQ2"
      },
      "execution_count": 7,
      "outputs": []
    },
    {
      "cell_type": "code",
      "source": [
        "prompt_template = \"Answer the following question based on your knowledge: {question}\"\n",
        "prompt = PromptTemplate(input_variables=[\"question\"], template=prompt_template)\n",
        "# Fix: Pass the api_key to GoogleGenerativeAI constructor\n",
        "llm = GoogleGenerativeAI(model=model, google_api_key=api_key) # Added google_api_key\n",
        "llm_chain = LLMChain(prompt=prompt, llm=llm)"
      ],
      "metadata": {
        "id": "v0Et6TWhOTX_"
      },
      "execution_count": 9,
      "outputs": []
    },
    {
      "cell_type": "code",
      "source": [
        "questions = [\n",
        "    \"What is the capital of France?\",\n",
        "    \"Explain the process of photosynthesis.\",\n",
        "    \"Who won the Nobel Peace Prize in 2021?\"\n",
        "]\n",
        "\n",
        "for question in questions:\n",
        "    print(f\"Question: {question}\")\n",
        "    answer = llm_chain.run(question)\n",
        "    print(f\"Answer: {answer}\\n\")\n"
      ],
      "metadata": {
        "colab": {
          "base_uri": "https://localhost:8080/"
        },
        "id": "FLanplELOVbd",
        "outputId": "5796b2aa-03a5-48f4-f9f2-f789480a2b8e"
      },
      "execution_count": 10,
      "outputs": [
        {
          "output_type": "stream",
          "name": "stdout",
          "text": [
            "Question: What is the capital of France?\n",
            "Answer: The capital of France is **Paris**.\n",
            "\n",
            "\n",
            "Question: Explain the process of photosynthesis.\n",
            "Answer: Okay, let's break down the process of photosynthesis. In essence, it's how plants and some other organisms convert light energy into chemical energy in the form of sugars, using carbon dioxide and water as raw materials. It's a vital process for almost all life on Earth, as it forms the base of most food chains and produces the oxygen we breathe.\n",
            "\n",
            "Here's a more detailed explanation of the process:\n",
            "\n",
            "**1. The Overall Equation:**\n",
            "\n",
            "The simplified overall equation for photosynthesis is:\n",
            "\n",
            "   **6CO₂ (Carbon Dioxide) + 6H₂O (Water) + Light Energy  →  C₆H₁₂O₆ (Glucose) + 6O₂ (Oxygen)**\n",
            "\n",
            "This equation shows that plants use carbon dioxide from the air and water from the soil, along with light energy, to produce glucose (a simple sugar) and release oxygen as a byproduct.\n",
            "\n",
            "**2. The Two Main Stages:**\n",
            "\n",
            "Photosynthesis is not a single step but a complex process involving two main stages, which occur in specialized structures called chloroplasts within plant cells:\n",
            "\n",
            "   **a) Light-Dependent Reactions (The \"Photo\" Part):**\n",
            "\n",
            "    * **Location:** These reactions occur in the thylakoid membranes within the chloroplasts. Thylakoids are disc-like structures stacked into columns called grana.\n",
            "    * **Key Players:**\n",
            "        * **Chlorophyll:** This pigment, found within the thylakoid membranes, absorbs light energy, primarily in the blue and red wavelengths of the visible spectrum. This is why plants appear green – they reflect the green wavelengths.\n",
            "        * **Photosystems:** These are protein complexes that contain chlorophyll and other pigments. There are two main types: Photosystem II (PSII) and Photosystem I (PSI).\n",
            "        * **Water (H₂O):** Water is split in a process called photolysis, releasing electrons, hydrogen ions (H⁺), and oxygen.\n",
            "        * **Light Energy:** Captured by chlorophyll, this energy is used to boost electrons to a higher energy level.\n",
            "    * **Process:**\n",
            "        1. Light energy is absorbed by PSII, energizing electrons.\n",
            "        2. Water is split to replace the lost electrons in PSII, releasing oxygen as a byproduct.\n",
            "        3. Energized electrons are passed along an electron transport chain (ETC), a series of protein complexes in the thylakoid membrane.\n",
            "        4. As electrons move through the ETC, they release energy, which is used to pump H⁺ ions from the stroma (the space surrounding the thylakoids) into the thylakoid lumen (the space inside the thylakoids), creating a concentration gradient.\n",
            "        5. The H⁺ ion gradient is used by ATP synthase to generate ATP (adenosine triphosphate), a molecule that stores energy.\n",
            "        6. Electrons are then passed to PSI, where they are re-energized by light.\n",
            "        7. These re-energized electrons are used to reduce NADP⁺ to NADPH, another energy-carrying molecule.\n",
            "    * **Outcomes:**\n",
            "        * **Oxygen (O₂):** Released into the atmosphere.\n",
            "        * **ATP:** A temporary energy storage molecule.\n",
            "        * **NADPH:** A reducing agent that carries electrons. These products are essential for the next stage.\n",
            "\n",
            "   **b) Light-Independent Reactions (The \"Synthesis\" Part - Also known as the Calvin Cycle):**\n",
            "\n",
            "    * **Location:** These reactions occur in the stroma of the chloroplasts.\n",
            "    * **Key Players:**\n",
            "        * **Carbon Dioxide (CO₂):** This is the source of carbon for making sugars.\n",
            "        * **RuBP (Ribulose-1,5-bisphosphate):** A 5-carbon molecule that initially captures CO₂.\n",
            "        * **ATP and NADPH:** Produced during the light-dependent reactions, these provide the energy and reducing power for the Calvin Cycle.\n",
            "    * **Process:**\n",
            "        1. **Carbon Fixation:** CO₂ from the atmosphere is combined with RuBP, a 5-carbon compound, catalyzed by the enzyme RuBisCO. This results in an unstable 6-carbon molecule that immediately breaks down into two 3-carbon molecules called 3-PGA (3-phosphoglycerate).\n",
            "        2. **Reduction:** ATP and NADPH are used to convert 3-PGA into G3P (glyceraldehyde-3-phosphate), a 3-carbon sugar that is the precursor to glucose and other carbohydrates.\n",
            "        3. **Regeneration:** Some G3P is used to regenerate RuBP, allowing the cycle to continue.\n",
            "    * **Outcomes:**\n",
            "        * **Glucose (C₆H₁₂O₆):** A 6-carbon sugar that is the primary product of photosynthesis. It can be used by the plant for energy or converted into other carbohydrates like starch or cellulose.\n",
            "        * **Regeneration of RuBP:** To keep the cycle going.\n",
            "\n",
            "**3. Summary:**\n",
            "\n",
            "In essence, photosynthesis uses light energy to convert water and carbon dioxide into glucose and oxygen. The light-dependent reactions capture light energy and produce ATP and NADPH, which are then used in the light-independent reactions (Calvin cycle) to convert carbon dioxide into glucose.\n",
            "\n",
            "**Importance of Photosynthesis:**\n",
            "\n",
            "* **Food Source:** It is the foundation of most food chains, providing energy for almost all organisms through the consumption of plants or other organisms that consume plants.\n",
            "* **Oxygen Production:** It produces the oxygen that is essential for the respiration of most organisms, including humans.\n",
            "* **Carbon Sequestration:** It removes carbon dioxide from the atmosphere, playing a crucial role in regulating the Earth's climate.\n",
            "\n",
            "This is a simplified explanation of a very complex process. There are many intricate details and variations that occur in different organisms. However, this explanation provides a solid foundation for understanding the core principles of photosynthesis.\n",
            "\n",
            "\n",
            "Question: Who won the Nobel Peace Prize in 2021?\n",
            "Answer: The Nobel Peace Prize in 2021 was awarded to **Maria Ressa and Dmitry Muratov** for their courageous fight for freedom of expression in the Philippines and Russia.\n",
            "\n",
            "\n"
          ]
        }
      ]
    },
    {
      "cell_type": "code",
      "source": [
        "from langchain.prompts import PromptTemplate\n",
        "from langchain.chains import LLMChain\n",
        "from langchain_google_genai import GoogleGenerativeAI, ChatGoogleGenerativeAI\n",
        "\n",
        "custom_prompt_template = \"Provide a detailed explanation of the following topic: {question}\"\n",
        "custom_prompt = PromptTemplate(input_variables=[\"question\"], template=custom_prompt_template)\n",
        "#Fix: Pass the api_key directly to the GoogleGenerativeAI constructor, avoiding the need for a separate client object.\n",
        "custom_llm = GoogleGenerativeAI(model=model, google_api_key=api_key, temperature=0.7, max_tokens=150)\n",
        "custom_llm_chain = LLMChain(prompt=custom_prompt, llm=custom_llm)\n",
        "\n",
        "questions = [\n",
        "    \"What are the latest advancements in AI technology?\",\n",
        "    \"Describe the key features of the 2024 Tesla Model S.\"\n",
        "]\n",
        "\n",
        "for question in questions:\n",
        "    print(f\"Question: {question}\")\n",
        "    answer = custom_llm_chain.run(question)\n",
        "    print(f\"Answer: {answer}\\n\")"
      ],
      "metadata": {
        "colab": {
          "base_uri": "https://localhost:8080/"
        },
        "id": "LiLUgNrTOumf",
        "outputId": "1e55a9cd-d52d-476f-83dc-c54169029e1e"
      },
      "execution_count": 12,
      "outputs": [
        {
          "output_type": "stream",
          "name": "stdout",
          "text": [
            "Question: What are the latest advancements in AI technology?\n",
            "Answer: Okay, let's dive deep into the latest advancements in AI technology. This is a rapidly evolving field, so \"latest\" is somewhat relative, but we'll focus on the most significant breakthroughs and trends in recent times. We can broadly categorize these advancements into several key areas:\n",
            "\n",
            "**1. Generative AI and Large Language Models (LLMs):**\n",
            "\n",
            "This is arguably the most talked-about area of AI advancements right now.\n",
            "\n",
            "* **Sophisticated Text Generation & Understanding:**\n",
            "    * **Beyond Simple Text:** LLMs like GPT-4, Gemini, and Llama 2 have gone far beyond basic text generation. They can now:\n",
            "        * **Understand Context and Nuance:** Grasp complex relationships between words and\n",
            "\n",
            "Question: Describe the key features of the 2024 Tesla Model S.\n",
            "Answer: Okay, let's delve into the key features of the 2024 Tesla Model S. It's important to note that Tesla often makes incremental changes throughout a model year, so some features might vary slightly depending on the specific production date. However, the core features we'll discuss are generally consistent for the 2024 model year.\n",
            "\n",
            "Here's a breakdown of the key features, categorized for clarity:\n",
            "\n",
            "**1. Performance & Powertrain:**\n",
            "\n",
            "* **All-Wheel Drive (AWD) Standard:** Unlike some competitors, the Model S comes standard with Dual Motor All-Wheel Drive, providing enhanced traction and handling, especially in adverse weather conditions.\n",
            "* **Dual Motor Configuration:** The standard configuration\n",
            "\n"
          ]
        }
      ]
    }
  ]
}